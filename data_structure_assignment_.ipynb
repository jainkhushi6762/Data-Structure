{
  "nbformat": 4,
  "nbformat_minor": 0,
  "metadata": {
    "colab": {
      "provenance": []
    },
    "kernelspec": {
      "name": "python3",
      "display_name": "Python 3"
    },
    "language_info": {
      "name": "python"
    }
  },
  "cells": [
    {
      "cell_type": "markdown",
      "source": [
        "# ***Theory Question***"
      ],
      "metadata": {
        "id": "F78RSSwpn0S3"
      }
    },
    {
      "cell_type": "markdown",
      "source": [
        "1. What are data structures, and why are they important ?\n",
        "\n",
        " ANS :- Data structures are specialized formats for organizing, storing, and managing data in a computer's memory or storage. They define the relationships between data elements and the operations that can be performed on them.\n",
        "\n",
        " The effective use of data structures is crucial for writing efficient, scalable, and well-organized Python code. THE IMPORTANCE ARE :\n",
        "\n",
        " Effective Algorithm Design and Implementation: Data structures serve as the foundation for creating complex algorithms. Understanding how to store and organize data efficiently is essential for designing algorithms that solve computational problems effectively.\n",
        "\n",
        " Scalability: As your application grows and handles larger datasets, selecting appropriate data structures ensures that the code can scale efficiently without becoming slow or cumbersome.\n",
        "\n",
        " Problem Solving: Data structures provide the tools to approach and solve a wide range of computational problems more effectively by allowing you to choose the most suitable way to store and manipulate your data.\n",
        "\n",
        " Real-world Applications: Data structures are fundamental in various applications, including databases, artificial intelligence, machine learning, networking, and more.\n",
        "\n",
        "\n",
        "\n",
        "\n"
      ],
      "metadata": {
        "id": "Mv0SJOftoCnG"
      }
    },
    {
      "cell_type": "markdown",
      "source": [
        "2. Explain the difference between mutable and immutable data types with examples .\n",
        "\n",
        " ANS :- 1. Mutable data types\n",
        "\n",
        " Mutable data types allow modification of their value or internal state after creation.\n",
        "\n",
        " Behavior: When you modify a mutable object, the changes occur in place, meaning the object's identity (memory address) remains the same.\n",
        "\n",
        " Examples:\n",
        "\n",
        " Lists: Ordered collections that allow adding, removing, or changing elements after creation.\n",
        "\n",
        " Dictionaries: Collections of key-value pairs where you can add, modify, or remove pairs.\n",
        "\n",
        " Sets: Unordered collections of unique elements where you can add or remove elements.\n",
        "\n",
        " Example of a mutable list:\n",
        "\n",
        "my_list = [1, 2, 3]  # Initial list\n",
        "\n",
        "\n",
        "my_list[0] = 10     # Modifying an element\n",
        "\n",
        "my_list.append(4)   # Adding an element\n",
        "\n",
        "print(my_list)      # Output: [10, 2, 3, 4]\n",
        "\n",
        "2. Immutable data types\n",
        "\n",
        " Immutable data types cannot be modified after they are created.\n",
        "\n",
        " Behavior: If you try to alter an immutable object, Python creates a new object with the modified content instead of changing the original.\n",
        "\n",
        " Examples:\n",
        "Numbers (integers, floats): Values like 10, 3.14 cannot be directly changed. Any operation appearing to modify them creates a new number object.\n",
        "\n",
        " Strings: Sequences of characters that cannot be modified after creation.\n",
        "\n",
        " Tuples: Ordered collections, similar to lists, but their elements cannot be changed once the tuple is created.\n",
        "Example of an immutable string:\n",
        "\n",
        "\n",
        "  my_string = \"Hello\"      # Initial string\n",
        "\n",
        " new_string = my_string + \" World\" # Creating a new string by concatenation\n",
        "\n",
        " print(my_string)     # Output: Hello\n",
        "\n",
        " print(new_string)    # Output: Hello World\n"
      ],
      "metadata": {
        "id": "XaUWl0qkoMYX"
      }
    },
    {
      "cell_type": "markdown",
      "source": [
        "3. What are the main differences between lists and tuples in Python ?\n",
        "\n",
        " ANS:- Lists are mutable: This means you can add, remove, or modify elements after a list is created.\n",
        "\n",
        " Tuples are immutable: Their contents cannot be altered once the tuple is created."
      ],
      "metadata": {
        "id": "4eRLs1vioST3"
      }
    },
    {
      "cell_type": "markdown",
      "source": [
        "4. Describe how dictionaries store data .\n",
        "\n",
        " ANS:-\n",
        " *  A dictionary stores data as key-value pairs.\n",
        " * Each key is unique and is used to access its corresponding value.\n",
        " * Dictionaries are mutable, so you can add, update, or remove items.\n",
        " * Internally, dictionaries use a hash table for fast lookups."
      ],
      "metadata": {
        "id": "IlvqEhJ_oYQt"
      }
    },
    {
      "cell_type": "markdown",
      "source": [
        "5.  Why might you use a set instead of a list in Python ?\n",
        "\n",
        "ANS:- While both lists and sets are used to store collections of data in Python, they have key differences that make them suitable for distinct use cases.\n",
        "\n",
        "Thats why we choose sets over list ▶\n",
        "\n",
        " * Uniqueness: Sets are inherently designed to store only unique elements, automatically removing any duplicates. If your data should not contain duplicates, a set simplifies the process and avoids redundant storage. For instance, creating a list of unique email addresses from a larger collection is a common scenario where sets shine.\n",
        "\n",
        " * Faster Membership Testing: Sets are optimized for checking if an element is present within the collection. This \"membership testing\" operation is significantly faster in sets than in lists, especially with large datasets. Sets achieve this efficiency through hashing, offering an average time complexity of O(1) for lookups, compared to O(n) for lists.\n",
        "\n",
        " * Set Operations: Sets provide direct support for mathematical set operations like union, intersection, and difference. These operations allow for efficient comparison and combination of data, making your code cleaner and more efficient compared to manually achieving similar results using lists. For example, finding common elements between two lists can be done much more efficiently by converting them to sets and using the intersection operation.\n",
        "\n",
        " * No Order Requirement: Sets are unordered, meaning the elements don't retain a specific sequence. If the order of your data isn't crucial, sets provide better performance for operations that benefit from this unordered structure, such as duplicate removal and membership testing."
      ],
      "metadata": {
        "id": "FH-GyNPkofpd"
      }
    },
    {
      "cell_type": "markdown",
      "source": [
        "6. What is a string in Python, and how is it different from a list ?\n",
        "\n",
        " ANS :- In Python, a string is an ordered sequence of characters, such as letters, numbers, symbols, and whitespace. Strings are typically enclosed in either single or double quotes. For example:\n",
        "    \n",
        "    name = \"Alice\"\n",
        "\n",
        "    message = 'Hello, world!'\n",
        "\n",
        " THE DIFFERENCE IS:\n",
        " * Strings are immutable: This means that once a string is created, its content cannot be changed. Any operation that appears to modify a string, like replacing a character or concatenating it with another string, actually creates a new string object.\n",
        " * Lists are mutable: You can modify the elements within a list after it's created, such as adding, removing, or changing items at specific indices"
      ],
      "metadata": {
        "id": "_4herWZgpO1t"
      }
    },
    {
      "cell_type": "markdown",
      "source": [
        "7. How do tuples ensure data integrity in Python ?\n",
        "\n",
        "ANS:-\n",
        "  * Tuples are immutable, which means once a tuple is created, its contents cannot be\n",
        "changed.\n",
        "  * This immutability protects the data from accidental modification or deletion.\n",
        "  * Because tuples cannot be altered, they are safer to use for fixed data that should not be\n",
        "modified.\n",
        "  * This helps in maintaining data integrity especially when passing data between functions\n",
        "or modules.\n",
        "  * Tuples can also be used as keys in dictionaries because they are immutable.\n"
      ],
      "metadata": {
        "id": "f46n-AydpYOE"
      }
    },
    {
      "cell_type": "markdown",
      "source": [
        "8. What is a hash table, and how does it relate to dictionaries in Python ?\n",
        "\n",
        "ANS:- A hash table is a data structure that stores key-value pairs.\n",
        "It uses a hash function to compute an index (called a hash) into an array, where the value\n",
        "is stored.\n",
        "This allows fast data lookup, insertion, and deletion, usually in constant time O(1).\n",
        "Python dictionaries are implemented using hash tables internally.\n",
        "When you use a dictionary, Python computes the hash of the key and stores the value at\n",
        "that position.\n",
        "This is why dictionary operations like dict[key] are very fast.\n",
        "Keys in dictionaries must be hashable (immutable data types like strings, numbers,\n",
        "tuples).\n"
      ],
      "metadata": {
        "id": "VM1IVnfVpgfd"
      }
    },
    {
      "cell_type": "markdown",
      "source": [
        "9. Can lists contain different data types in Python ?\n",
        "\n",
        "ANS:- Yes, lists in Python can contain elements of different data types.\n",
        "A single list can have integers, strings, floats, booleans, and even other lists or objects.\n",
        "This makes lists very flexible and useful for storing mixed data."
      ],
      "metadata": {
        "id": "YFjzglL3plke"
      }
    },
    {
      "cell_type": "markdown",
      "source": [
        "10.  Explain why strings are immutable in Python .\n",
        "\n",
        "ANS:-Strings are immutable, meaning once created, their contents cannot be changed.\n",
        "\n",
        "This design choice helps Python to:\n",
        "Optimize memory usage by allowing string reuse (string interning).\n",
        "Make strings thread-safe (safe to use in multiple parts of a program without\n",
        "unintended changes).\n",
        "Prevent bugs by avoiding accidental changes to string data.\n",
        "\n",
        "When you modify a string, Python actually creates a new string instead of changing the\n",
        "original.\n",
        "\n"
      ],
      "metadata": {
        "id": "L6KXismDpyAl"
      }
    },
    {
      "cell_type": "markdown",
      "source": [
        "11. What advantages do dictionaries offer over lists for certain tasks ?\n",
        "\n",
        "ANS:-\n",
        " * **Fast Lookup:**\n",
        "Dictionaries provide fast access to values using keys (usually in constant time O(1)), while\n",
        "lists require searching through elements (O(n)).\n",
        " * **Key-Value Pair Storage:**\n",
        "Dictionaries store data as key-value pairs, making it easy to represent relationships (like a\n",
        "person's name and age), whereas lists store ordered items without keys.\n",
        " * **Uniqueness of Keys:**\n",
        "Keys in dictionaries are unique, preventing duplicate entries for the same key.\n",
        " * **Flexible Data Access:**\n",
        "You can access data directly by key rather than by position or index."
      ],
      "metadata": {
        "id": "k2EP0ILWp3XF"
      }
    },
    {
      "cell_type": "markdown",
      "source": [
        "12.  Describe a scenario where using a tuple would be preferable over a list .\n",
        "\n",
        "ANS:-\n",
        "\n",
        "*** When to Use a Tuple:***\n",
        "\n",
        "  A tuple is preferable when you want to store fixed, unchangeable data that should remain\n",
        "constant throughout the program.\n",
        "\n",
        "Example Scenario:\n",
        "Storing geographical coordinates of a location."
      ],
      "metadata": {
        "id": "FvQ1H_OSp9x-"
      }
    },
    {
      "cell_type": "code",
      "source": [
        "# Using a tuple for fixed coordinates\n",
        "location = (28.6139, 77.2090) # Latitude, Longitude\n",
        "# location[0] = 29.0000 # This will cause an error (immutable)\n",
        "print(location) # Output: (28.6139, 77.2090)"
      ],
      "metadata": {
        "id": "I33PzTPjaxZP"
      },
      "execution_count": null,
      "outputs": []
    },
    {
      "cell_type": "markdown",
      "source": [
        "13. How do sets handle duplicate values in Python ?\n",
        "\n",
        "ANS:- In Python, sets automatically remove duplicates.\n",
        "They store only unique elements and ignore any repeated values"
      ],
      "metadata": {
        "id": "7NYT2-_eqDeM"
      }
    },
    {
      "cell_type": "markdown",
      "source": [
        "14.  How does the “in” keyword work differently for lists and dictionaries ?\n",
        "\n",
        "ANS:-\n",
        "  * In Lists:\n",
        "in checks if the given element exists anywhere in the list.\n",
        "  * In Dictionaries:\n",
        "in checks only if the given value exists as a key, not as a value.\n"
      ],
      "metadata": {
        "id": "aqbBWxqTqJNd"
      }
    },
    {
      "cell_type": "code",
      "source": [
        "# Example for list\n",
        "my_list = [1, 2, 3]\n",
        "print(2 in my_list) # True\n",
        "print(5 in my_list) # False\n",
        "# Example for dictionary\n",
        "my_dict = {\"a\": 1, \"b\": 2}\n",
        "print(\"a\" in my_dict) # True (key exists)\n",
        "print(1 in my_dict) # False (1 is a value, not a key)\n",
        "print(1 in my_dict.values()) # True (checks in values)"
      ],
      "metadata": {
        "id": "BJZY9KTObnde"
      },
      "execution_count": null,
      "outputs": []
    },
    {
      "cell_type": "markdown",
      "source": [
        "15. Can you modify the elements of a tuple? Explain why or why not .\n",
        "\n",
        "ANS:- No, you cannot modify the elements of a tuple in Python because tuples are immutable.\n",
        "Once a tuple is created, its elements cannot be changed, added, or removed.\n",
        "This immutability makes tuples useful for storing fixed data that should not change during\n",
        "program execution"
      ],
      "metadata": {
        "id": "tgNseGujqVV8"
      }
    },
    {
      "cell_type": "markdown",
      "source": [
        "16.  What is a nested dictionary, and give an example of its use case ?\n",
        "\n",
        "ANS:- A nested dictionary in Python is a dictionary inside another dictionary.\n",
        "It is used to store complex and structured data in a hierarchical form.\n",
        "\n",
        "***Example: Student Information***"
      ],
      "metadata": {
        "id": "J-9Hkdx0qb2O"
      }
    },
    {
      "cell_type": "code",
      "source": [
        "# Creating a nested dictionary\n",
        "students = {\n",
        "\"student1\": {\"name\": \"Alice\", \"age\": 20, \"marks\": {\"Math\": 90, \"Science\": 85}},\n",
        "\"student2\": {\"name\": \"Bob\", \"age\": 21, \"marks\": {\"Math\": 78, \"Science\": 88}}\n",
        "}\n",
        "# Accessing nested values\n",
        "print(students[\"student1\"][\"name\"]) # Output: Alice\n",
        "print(students[\"student1\"][\"marks\"][\"Math\"]) # Output: 90\n",
        "# Modifying a value in nested dictionary\n",
        "students[\"student2\"][\"marks\"][\"Science\"] = 92\n",
        "print(students)"
      ],
      "metadata": {
        "colab": {
          "base_uri": "https://localhost:8080/"
        },
        "id": "LEsvMSj_cQiW",
        "outputId": "fa7401e5-5a91-4139-f16f-bd25d274930e"
      },
      "execution_count": 6,
      "outputs": [
        {
          "output_type": "stream",
          "name": "stdout",
          "text": [
            "Alice\n",
            "90\n",
            "{'student1': {'name': 'Alice', 'age': 20, 'marks': {'Math': 90, 'Science': 85}}, 'student2': {'name': 'Bob', 'age': 21, 'marks': {'Math': 78, 'Science': 92}}}\n"
          ]
        }
      ]
    },
    {
      "cell_type": "markdown",
      "source": [
        "17.  Describe the time complexity of accessing elements in a dictionary .\n",
        "\n",
        "ANS:-  In Python, a dictionary is implemented using a hash table.\n",
        "Each key is hashed to determine where its value is stored in memory.\n",
        "This makes element access very fast.\n",
        "\n",
        "\n",
        "***Time Complexity:***\n",
        "\n",
        "Average Case: O(1) → Constant time\n",
        "\n",
        "Reason: Hashing allows direct access to the value using its key.\n",
        "\n",
        "Worst Case: O(n) → Linear time\n",
        "\n",
        "Reason: Can happen if hash collisions occur and all keys fall into the same bucket (rare in\n",
        "Python's implementation)."
      ],
      "metadata": {
        "id": "NzaUSUjgql3l"
      }
    },
    {
      "cell_type": "markdown",
      "source": [
        "18.  In what situations are lists preferred over dictionaries ?\n",
        "\n",
        "ANS:-\n",
        " When to Prefer Lists:\n",
        "1. Order Matters\n",
        "\n",
        "Lists maintain the order of elements by index.\n",
        "Useful when you need to process items in a specific sequence.\n",
        "2. No Need for Key-Value Pairs\n",
        "\n",
        "If your data doesn't require unique keys and you just want to store values.\n",
        "3. Duplicate Values Are Allowed\n",
        "\n",
        "Lists can store the same value multiple times, unlike sets or dictionary keys.\n",
        "4. Index-Based Access is Needed\n",
        "\n",
        "You can access elements directly using their index (e.g., my_list[0] )."
      ],
      "metadata": {
        "id": "IL0LWsqNqrfk"
      }
    },
    {
      "cell_type": "markdown",
      "source": [
        "19.  Why are dictionaries considered unordered, and how does that affect data retrieval ?\n",
        "\n",
        "ANS:- Before Python 3.7:\n",
        "Dictionaries did not preserve the order of insertion, meaning the order\n",
        "of items could appear random.\n",
        "\n",
        "From Python 3.7 onwards:\n",
        " Dictionaries preserve insertion order, but conceptually they are\n",
        "still unordered collections, because:\n",
        "\n",
        "Access to values is based on keys (hashing), not position.\n",
        "You cannot rely on indexes like lists ( dict[0] is invalid).\n",
        "\n",
        "Effect on Data Retrieval:\n",
        "1. No Index-Based Access\n",
        "Retrieval happens through keys, not positions.\n",
        "2. Fast Access Using Keys\n",
        "Average time complexity for lookup is O(1) because of hash table implementation.\n",
        "3. Iteration Order May Not Matter\n",
        "If your program logic depends on data order, a dictionary might not be suitable\n",
        "unless you explicitly maintain order.\n"
      ],
      "metadata": {
        "id": "dluSATHlqxbX"
      }
    },
    {
      "cell_type": "markdown",
      "source": [
        "20.  Explain the difference between a list and a dictionary in terms of data retrieval.\n",
        "\n",
        "ANS:-\n",
        " * Lists: Data is retrieved based on its position or index in the list. You access elements using their numerical index (starting from 0). For example, my_list[0] retrieves the first element. This is efficient for accessing elements by their order, but searching for a specific value without knowing its index can be slow (linear search).\n",
        " * Dictionaries: Data is retrieved based on its unique key. You access the associated value by providing the key. For example, my_dict['name'] retrieves the value associated with the key 'name'. This is very efficient for retrieving data when you know the key (average O(1) time complexity) because of the underlying hash table implementation"
      ],
      "metadata": {
        "id": "iEHbTls3q2yd"
      }
    },
    {
      "cell_type": "markdown",
      "source": [
        "# ***Practical Questions***"
      ],
      "metadata": {
        "id": "GpJVJF64rGtG"
      }
    },
    {
      "cell_type": "markdown",
      "source": [
        "1. Write a code to create a string with your name and print it ."
      ],
      "metadata": {
        "id": "OZa6V97srQel"
      }
    },
    {
      "cell_type": "code",
      "source": [
        "name = \"Aditya\"\n",
        "print(name)"
      ],
      "metadata": {
        "colab": {
          "base_uri": "https://localhost:8080/"
        },
        "id": "lRUmz-iUvO18",
        "outputId": "5224358b-f540-4c5c-b388-059b8c52505a"
      },
      "execution_count": null,
      "outputs": [
        {
          "output_type": "stream",
          "name": "stdout",
          "text": [
            "Aditya\n"
          ]
        }
      ]
    },
    {
      "cell_type": "markdown",
      "source": [
        "2.  Write a code to find the length of the string \"Hello World\""
      ],
      "metadata": {
        "id": "zF_gFxkyrf-1"
      }
    },
    {
      "cell_type": "code",
      "source": [
        "name=\"Hello World\"\n",
        "print(len(name))"
      ],
      "metadata": {
        "colab": {
          "base_uri": "https://localhost:8080/"
        },
        "id": "A7G2fBbkvYn1",
        "outputId": "de2a0a24-543c-4a43-afea-1b7d5796d12c"
      },
      "execution_count": null,
      "outputs": [
        {
          "output_type": "stream",
          "name": "stdout",
          "text": [
            "11\n"
          ]
        }
      ]
    },
    {
      "cell_type": "markdown",
      "source": [
        "3.  Write a code to slice the first 3 characters from the string \"Python Programming\""
      ],
      "metadata": {
        "id": "gSOq8vMlrkPm"
      }
    },
    {
      "cell_type": "code",
      "source": [
        "name=\"Python Programming\"\n",
        "print(name[0:3])"
      ],
      "metadata": {
        "colab": {
          "base_uri": "https://localhost:8080/"
        },
        "id": "QyGw9UEDvk0D",
        "outputId": "301e1ce0-ac9e-43bb-a050-6b9c9e2f3f4b"
      },
      "execution_count": null,
      "outputs": [
        {
          "output_type": "stream",
          "name": "stdout",
          "text": [
            "Pyt\n"
          ]
        }
      ]
    },
    {
      "cell_type": "markdown",
      "source": [
        "4. Write a code to convert the string \"hello\" to uppercase"
      ],
      "metadata": {
        "id": "gcPsGbfNrr5l"
      }
    },
    {
      "cell_type": "code",
      "source": [
        "name=\"hello\"\n",
        "print(name.upper())"
      ],
      "metadata": {
        "colab": {
          "base_uri": "https://localhost:8080/"
        },
        "id": "yczWq6z5vmtk",
        "outputId": "5643c779-e942-44b2-da3e-73af343499a9"
      },
      "execution_count": null,
      "outputs": [
        {
          "output_type": "stream",
          "name": "stdout",
          "text": [
            "HELLO\n"
          ]
        }
      ]
    },
    {
      "cell_type": "markdown",
      "source": [
        "5.  Write a code to replace the word \"apple\" with \"orange\" in the string \"I like apple\""
      ],
      "metadata": {
        "id": "q1GtL6airw01"
      }
    },
    {
      "cell_type": "code",
      "source": [
        "line=\"I like apple\"\n",
        "print(line.replace(\"apple\",\"orange\"))"
      ],
      "metadata": {
        "colab": {
          "base_uri": "https://localhost:8080/"
        },
        "id": "BsxuwqHQvtt8",
        "outputId": "ac000854-2c82-42eb-f43c-6161c1ffbdff"
      },
      "execution_count": null,
      "outputs": [
        {
          "output_type": "stream",
          "name": "stdout",
          "text": [
            "I like orange\n"
          ]
        }
      ]
    },
    {
      "cell_type": "markdown",
      "source": [
        "6. Write a code to create a list with numbers 1 to 5 and print it ."
      ],
      "metadata": {
        "id": "0mU0L2rOr16W"
      }
    },
    {
      "cell_type": "code",
      "source": [
        "list= [1,2,3,4,5]\n",
        "print(list)"
      ],
      "metadata": {
        "colab": {
          "base_uri": "https://localhost:8080/"
        },
        "id": "Ji5_Ypvhvz6j",
        "outputId": "4bfc64a1-435c-41ff-eabe-797eed23cd21"
      },
      "execution_count": null,
      "outputs": [
        {
          "output_type": "stream",
          "name": "stdout",
          "text": [
            "[1, 2, 3, 4, 5]\n"
          ]
        }
      ]
    },
    {
      "cell_type": "markdown",
      "source": [
        "7.  Write a code to append the number 10 to the list [1, 2, 3, 4]"
      ],
      "metadata": {
        "id": "mMOjOCNur-21"
      }
    },
    {
      "cell_type": "code",
      "source": [
        "list=[1,2,3,4]\n",
        "list.append(10)\n",
        "print(list)"
      ],
      "metadata": {
        "colab": {
          "base_uri": "https://localhost:8080/"
        },
        "id": "FUQy2cS3v-zr",
        "outputId": "bef9abf2-2430-46b8-c40d-b058798757bb"
      },
      "execution_count": null,
      "outputs": [
        {
          "output_type": "stream",
          "name": "stdout",
          "text": [
            "[1, 2, 3, 4, 10]\n"
          ]
        }
      ]
    },
    {
      "cell_type": "markdown",
      "source": [
        "8. Write a code to remove the number 3 from the list [1, 2, 3, 4, 5] ."
      ],
      "metadata": {
        "id": "6yWXxDlOsH-l"
      }
    },
    {
      "cell_type": "code",
      "source": [
        "list=[1,2,3,4,5]\n",
        "list.remove(3)\n",
        "print(list)"
      ],
      "metadata": {
        "colab": {
          "base_uri": "https://localhost:8080/"
        },
        "id": "ISINT3PowJOM",
        "outputId": "0489b748-093f-48b5-8798-0506368eb30b"
      },
      "execution_count": null,
      "outputs": [
        {
          "output_type": "stream",
          "name": "stdout",
          "text": [
            "[1, 2, 4, 5]\n"
          ]
        }
      ]
    },
    {
      "cell_type": "markdown",
      "source": [
        "9. Write a code to access the second element in the list ['a', 'b', 'c', 'd'] ."
      ],
      "metadata": {
        "id": "m0dSuwgJsNe2"
      }
    },
    {
      "cell_type": "code",
      "source": [
        "list=['a','b','c','d']\n",
        "print(list[1])"
      ],
      "metadata": {
        "colab": {
          "base_uri": "https://localhost:8080/"
        },
        "id": "pFqEFS_EwPte",
        "outputId": "963d00be-cbd4-4f45-a025-1ef6c9627138"
      },
      "execution_count": null,
      "outputs": [
        {
          "output_type": "stream",
          "name": "stdout",
          "text": [
            "b\n"
          ]
        }
      ]
    },
    {
      "cell_type": "markdown",
      "source": [
        "10.  Write a code to reverse the list [10, 20, 30, 40, 50]."
      ],
      "metadata": {
        "id": "H1-ckC8wsUpm"
      }
    },
    {
      "cell_type": "code",
      "source": [
        "list=[10,20,30,40,50]\n",
        "list.reverse()\n",
        "print(list)"
      ],
      "metadata": {
        "colab": {
          "base_uri": "https://localhost:8080/"
        },
        "id": "Jtpyo_CKwVb2",
        "outputId": "8f4a7a4c-a748-4385-df7b-32bee6b65f9b"
      },
      "execution_count": null,
      "outputs": [
        {
          "output_type": "stream",
          "name": "stdout",
          "text": [
            "[50, 40, 30, 20, 10]\n"
          ]
        }
      ]
    },
    {
      "cell_type": "markdown",
      "source": [
        "11. 11. Write a code to create a tuple with the elements 100, 200, 300 and print it."
      ],
      "metadata": {
        "id": "L4lNzrwrsZhe"
      }
    },
    {
      "cell_type": "code",
      "source": [
        "tuple=(100,200,300)\n",
        "print(tuple)"
      ],
      "metadata": {
        "colab": {
          "base_uri": "https://localhost:8080/"
        },
        "id": "uTUwBbq7wm_M",
        "outputId": "a83fbc70-62b0-498c-d17b-8c6714681d4b"
      },
      "execution_count": null,
      "outputs": [
        {
          "output_type": "stream",
          "name": "stdout",
          "text": [
            "(100, 200, 300)\n"
          ]
        }
      ]
    },
    {
      "cell_type": "markdown",
      "source": [
        "12.  12. Write a code to access the second-to-last element of the tuple ('red', 'green', 'blue', 'yellow')."
      ],
      "metadata": {
        "id": "tgeRdNtusg0G"
      }
    },
    {
      "cell_type": "code",
      "source": [
        "tuple=('red','green','blue','yellow')\n",
        "print(tuple[-2])"
      ],
      "metadata": {
        "colab": {
          "base_uri": "https://localhost:8080/"
        },
        "id": "BSmtBLt9wryd",
        "outputId": "4713053a-f929-4f5e-b98b-1dcc471e7a1c"
      },
      "execution_count": null,
      "outputs": [
        {
          "output_type": "stream",
          "name": "stdout",
          "text": [
            "blue\n"
          ]
        }
      ]
    },
    {
      "cell_type": "markdown",
      "source": [
        "13. . Write a code to find the minimum number in the tuple (10, 20, 5, 15)."
      ],
      "metadata": {
        "id": "JDLc-tOgslxk"
      }
    },
    {
      "cell_type": "code",
      "source": [
        "tuple=(10,20,5,15)\n",
        "print(min(tuple))"
      ],
      "metadata": {
        "colab": {
          "base_uri": "https://localhost:8080/"
        },
        "id": "hjgeIAfPwwX0",
        "outputId": "3bb834d8-73d8-421c-8244-377a00e063f5"
      },
      "execution_count": null,
      "outputs": [
        {
          "output_type": "stream",
          "name": "stdout",
          "text": [
            "5\n"
          ]
        }
      ]
    },
    {
      "cell_type": "markdown",
      "source": [
        "14. 14. Write a code to find the index of the element \"cat\" in the tuple ('dog', 'cat', 'rabbit')."
      ],
      "metadata": {
        "id": "KGI_JqQbsqfb"
      }
    },
    {
      "cell_type": "code",
      "source": [
        "tuple=('dog','cat','rabbit')\n",
        "print(tuple.index('cat'))"
      ],
      "metadata": {
        "colab": {
          "base_uri": "https://localhost:8080/"
        },
        "id": "r0LBou_ew27U",
        "outputId": "e77cd45d-ef68-4338-c3f1-9c715d4a47c6"
      },
      "execution_count": null,
      "outputs": [
        {
          "output_type": "stream",
          "name": "stdout",
          "text": [
            "1\n"
          ]
        }
      ]
    },
    {
      "cell_type": "markdown",
      "source": [
        "15. . Write a code to create a tuple containing three different fruits and check if \"kiwi\" is in it ."
      ],
      "metadata": {
        "id": "wk3biKm-s5f9"
      }
    },
    {
      "cell_type": "code",
      "source": [
        "tuple=(\"apple\",\"banana\",\"kiwi\")\n",
        "print(\"kiwi\" in tuple)"
      ],
      "metadata": {
        "colab": {
          "base_uri": "https://localhost:8080/"
        },
        "id": "tMi0D7Kow-MM",
        "outputId": "02bcdbce-ae42-4dca-b3bf-79dd5e0e88d4"
      },
      "execution_count": null,
      "outputs": [
        {
          "output_type": "stream",
          "name": "stdout",
          "text": [
            "True\n"
          ]
        }
      ]
    },
    {
      "cell_type": "markdown",
      "source": [
        "16.  Write a code to create a set with the elements 'a', 'b', 'c' and print it."
      ],
      "metadata": {
        "id": "3E13Y9eJs_YW"
      }
    },
    {
      "cell_type": "code",
      "source": [
        "set={'a','b','c'}\n",
        "print(set)"
      ],
      "metadata": {
        "colab": {
          "base_uri": "https://localhost:8080/"
        },
        "id": "zcbMDUswxDR8",
        "outputId": "441d65d8-b873-456d-81a6-495d54fa11dc"
      },
      "execution_count": null,
      "outputs": [
        {
          "output_type": "stream",
          "name": "stdout",
          "text": [
            "{'a', 'c', 'b'}\n"
          ]
        }
      ]
    },
    {
      "cell_type": "markdown",
      "source": [
        "17. . Write a code to clear all elements from the set {1, 2, 3, 4, 5}."
      ],
      "metadata": {
        "id": "4jPWl7mItGOG"
      }
    },
    {
      "cell_type": "code",
      "source": [
        "set={1,2,3,4,5}\n",
        "set.clear()\n",
        "print(set)"
      ],
      "metadata": {
        "colab": {
          "base_uri": "https://localhost:8080/"
        },
        "id": "SO0Pe11zxHZk",
        "outputId": "add8b9aa-35fe-4ff0-8142-5980f31f7dc4"
      },
      "execution_count": null,
      "outputs": [
        {
          "output_type": "stream",
          "name": "stdout",
          "text": [
            "set()\n"
          ]
        }
      ]
    },
    {
      "cell_type": "markdown",
      "source": [
        "18. . Write a code to remove the element 4 from the set {1, 2, 3, 4}."
      ],
      "metadata": {
        "id": "FXwVaZPOtMrU"
      }
    },
    {
      "cell_type": "code",
      "source": [
        "set={1,2,3,4}\n",
        "set.remove(4)\n",
        "print(set)"
      ],
      "metadata": {
        "colab": {
          "base_uri": "https://localhost:8080/"
        },
        "id": "HNUgfln9xK5L",
        "outputId": "9d618136-b400-4c9e-e673-e5c384913a11"
      },
      "execution_count": null,
      "outputs": [
        {
          "output_type": "stream",
          "name": "stdout",
          "text": [
            "{1, 2, 3}\n"
          ]
        }
      ]
    },
    {
      "cell_type": "markdown",
      "source": [
        "19. Write a code to find the union of two sets {1, 2, 3} and {3, 4, 5}."
      ],
      "metadata": {
        "id": "yxWQaK7stUqk"
      }
    },
    {
      "cell_type": "code",
      "source": [
        "a={1,2,3}\n",
        "b={3,4,5}\n",
        "print(a.union(b))"
      ],
      "metadata": {
        "colab": {
          "base_uri": "https://localhost:8080/"
        },
        "id": "Yk7dZCI6xObW",
        "outputId": "9495ed7d-11e3-474a-bd79-7d80d46db652"
      },
      "execution_count": null,
      "outputs": [
        {
          "output_type": "stream",
          "name": "stdout",
          "text": [
            "{1, 2, 3, 4, 5}\n"
          ]
        }
      ]
    },
    {
      "cell_type": "markdown",
      "source": [
        "20. Write a code to find the intersection of two sets {1, 2, 3} and {2, 3, 4}."
      ],
      "metadata": {
        "id": "13-JR-_ZtbNx"
      }
    },
    {
      "cell_type": "code",
      "source": [
        "a={1,2,3}\n",
        "b={2,3,4}\n",
        "print(a.intersection(b))"
      ],
      "metadata": {
        "colab": {
          "base_uri": "https://localhost:8080/"
        },
        "id": "uJfjIiqtxR5N",
        "outputId": "f695be5c-7d1c-46a7-851e-2f384ca0aa48"
      },
      "execution_count": null,
      "outputs": [
        {
          "output_type": "stream",
          "name": "stdout",
          "text": [
            "{2, 3}\n"
          ]
        }
      ]
    },
    {
      "cell_type": "markdown",
      "source": [
        "21. Write a code to find the intersection of two sets {1, 2, 3} and {2, 3, 4}."
      ],
      "metadata": {
        "id": "7ThO6rwjtgvd"
      }
    },
    {
      "cell_type": "code",
      "source": [
        "a={1,2,3}\n",
        "b={2,3,4}\n",
        "print(a.intersection(b))"
      ],
      "metadata": {
        "colab": {
          "base_uri": "https://localhost:8080/"
        },
        "id": "1SOuXbDJxWDU",
        "outputId": "d795b524-ffb2-4e8f-ee4f-f2e0d183b3c2"
      },
      "execution_count": null,
      "outputs": [
        {
          "output_type": "stream",
          "name": "stdout",
          "text": [
            "{2, 3}\n"
          ]
        }
      ]
    },
    {
      "cell_type": "markdown",
      "source": [
        "22. . Write a code to add a new key-value pair \"country\": \"USA\" to the dictionary {'name': 'John', 'age': 25}."
      ],
      "metadata": {
        "id": "FOIaBlxntl82"
      }
    },
    {
      "cell_type": "code",
      "source": [
        "dic={'name': 'John', 'age': 25}\n",
        "dic[\"country\"]=\"USA\"\n",
        "print(dic)"
      ],
      "metadata": {
        "colab": {
          "base_uri": "https://localhost:8080/"
        },
        "id": "r6fxKqW-xZcT",
        "outputId": "9fd337bb-eb0c-40d6-bbb8-ff01aed8626a"
      },
      "execution_count": null,
      "outputs": [
        {
          "output_type": "stream",
          "name": "stdout",
          "text": [
            "{'name': 'John', 'age': 25, 'country': 'USA'}\n"
          ]
        }
      ]
    },
    {
      "cell_type": "markdown",
      "source": [
        "23.  Write a code to access the value associated with the key \"name\" in the dictionary {'name': 'Alice', 'age': 30}"
      ],
      "metadata": {
        "id": "VZXzNBJAtvyk"
      }
    },
    {
      "cell_type": "code",
      "source": [
        "dic={'name': 'Alice', 'age': 30}\n",
        "print(dic[\"name\"])"
      ],
      "metadata": {
        "colab": {
          "base_uri": "https://localhost:8080/"
        },
        "id": "lNfOhTHtxcso",
        "outputId": "a33459ff-fdb6-4a85-b65a-5ae6317d06c3"
      },
      "execution_count": null,
      "outputs": [
        {
          "output_type": "stream",
          "name": "stdout",
          "text": [
            "Alice\n"
          ]
        }
      ]
    },
    {
      "cell_type": "markdown",
      "source": [
        "24. Write a code to remove the key \"age\" from the dictionary {'name': 'Bob', 'age': 22, 'city': 'New York'}."
      ],
      "metadata": {
        "id": "K7mDrbxNt2bV"
      }
    },
    {
      "cell_type": "code",
      "source": [
        "dic={'name': 'Bob', 'age': 22, 'city': 'New York'}\n",
        "dic.pop(\"age\")\n",
        "print(dic)"
      ],
      "metadata": {
        "colab": {
          "base_uri": "https://localhost:8080/"
        },
        "id": "EypWZUcVxgL1",
        "outputId": "a34e24eb-7aaf-421b-87dd-9a92ce281c30"
      },
      "execution_count": null,
      "outputs": [
        {
          "output_type": "stream",
          "name": "stdout",
          "text": [
            "{'name': 'Bob', 'city': 'New York'}\n"
          ]
        }
      ]
    },
    {
      "cell_type": "markdown",
      "source": [
        "25.  Write a code to check if the key \"city\" exists in the dictionary {'name': 'Alice', 'city': 'Paris'}."
      ],
      "metadata": {
        "id": "xx4mgcuUt7P1"
      }
    },
    {
      "cell_type": "code",
      "source": [
        "dic={'name': 'Alice', 'city': 'Paris'}\n",
        "print(\"city\" in dic)"
      ],
      "metadata": {
        "colab": {
          "base_uri": "https://localhost:8080/"
        },
        "id": "PREsEuUxxjes",
        "outputId": "128219f7-5800-4f77-fe5f-b833c29c6c2b"
      },
      "execution_count": null,
      "outputs": [
        {
          "output_type": "stream",
          "name": "stdout",
          "text": [
            "True\n"
          ]
        }
      ]
    },
    {
      "cell_type": "markdown",
      "source": [
        "26.   Write a code to create a list, a tuple, and a dictionary, and print them all."
      ],
      "metadata": {
        "id": "UhrvFkghuGVt"
      }
    },
    {
      "cell_type": "code",
      "source": [
        "list=[1,2,3,4]\n",
        "tuple=(1,2,3,4)\n",
        "dic={'name': 'Alice', 'city': 'Paris'}\n",
        "print(list)\n",
        "print(tuple)\n",
        "print(dic)"
      ],
      "metadata": {
        "colab": {
          "base_uri": "https://localhost:8080/"
        },
        "id": "nTnSz16HxtGl",
        "outputId": "2128042f-fa39-4ca8-b739-1f3e6a057ed9"
      },
      "execution_count": null,
      "outputs": [
        {
          "output_type": "stream",
          "name": "stdout",
          "text": [
            "[1, 2, 3, 4]\n",
            "(1, 2, 3, 4)\n",
            "{'name': 'Alice', 'city': 'Paris'}\n"
          ]
        }
      ]
    },
    {
      "cell_type": "markdown",
      "source": [
        "27.  Write a code to create a list of 5 random numbers between 1 and 100, sort it in ascending order, and print the result.(replaced)"
      ],
      "metadata": {
        "id": "bybMaG7quNV0"
      }
    },
    {
      "cell_type": "code",
      "source": [
        "# Create a list of 5 random numbers between 1 and 100\n",
        "import random\n",
        "random_numbers = [random.randint(1, 100) for _ in range(5)]\n",
        "# Sort the list in ascending order\n",
        "random_numbers.sort()\n",
        "# Print the sorted list\n",
        "print(random_numbers)"
      ],
      "metadata": {
        "id": "4RTkPErXxxOk",
        "colab": {
          "base_uri": "https://localhost:8080/"
        },
        "outputId": "a68c5c11-ad98-49f2-8c7d-73438ae3c71c"
      },
      "execution_count": 2,
      "outputs": [
        {
          "output_type": "stream",
          "name": "stdout",
          "text": [
            "[5, 33, 49, 83, 94]\n"
          ]
        }
      ]
    },
    {
      "cell_type": "markdown",
      "source": [
        "28.  Write a code to create a list with strings and print the element at the third index ."
      ],
      "metadata": {
        "id": "eVmhoOLcugo9"
      }
    },
    {
      "cell_type": "code",
      "source": [
        "# Creating a list of strings\n",
        "fruits = [\"apple\", \"banana\", \"cherry\", \"orange\", \"mango\"]\n",
        "# Accessing the element at the third index\n",
        "print(fruits[3])"
      ],
      "metadata": {
        "id": "RDRpnDuwx3e9",
        "colab": {
          "base_uri": "https://localhost:8080/"
        },
        "outputId": "203782c1-71e7-4384-a788-f616dd20726e"
      },
      "execution_count": 3,
      "outputs": [
        {
          "output_type": "stream",
          "name": "stdout",
          "text": [
            "orange\n"
          ]
        }
      ]
    },
    {
      "cell_type": "markdown",
      "source": [
        "29. Write a code to combine two dictionaries into one and print the result."
      ],
      "metadata": {
        "id": "d-p3oTBpuoLd"
      }
    },
    {
      "cell_type": "code",
      "source": [
        "dict1 = {'a': 1, 'b': 2}\n",
        "dict2 = {'c': 3, 'd': 4}\n",
        "# Merge dict2 into dict1\n",
        "dict1.update(dict2)\n",
        "print(dict1)"
      ],
      "metadata": {
        "id": "gDpgjfT1x7g0",
        "colab": {
          "base_uri": "https://localhost:8080/"
        },
        "outputId": "4c4db6f0-8ce7-4f34-f4eb-6fe8dfafe81a"
      },
      "execution_count": 4,
      "outputs": [
        {
          "output_type": "stream",
          "name": "stdout",
          "text": [
            "{'a': 1, 'b': 2, 'c': 3, 'd': 4}\n"
          ]
        }
      ]
    },
    {
      "cell_type": "markdown",
      "source": [
        "30.  30. Write a code to convert a list of strings into a set."
      ],
      "metadata": {
        "id": "_00IF_wlutRt"
      }
    },
    {
      "cell_type": "code",
      "source": [
        "# List of strings\n",
        "fruits_list = [\"apple\", \"banana\", \"apple\", \"orange\", \"banana\"]\n",
        "# Convert list to set\n",
        "fruits_set = set(fruits_list)\n",
        "print(fruits_set)"
      ],
      "metadata": {
        "id": "srDvB035u9G0",
        "colab": {
          "base_uri": "https://localhost:8080/"
        },
        "outputId": "c934a975-2e5e-4acd-a370-cf57d91bc8c8"
      },
      "execution_count": 5,
      "outputs": [
        {
          "output_type": "stream",
          "name": "stdout",
          "text": [
            "{'orange', 'banana', 'apple'}\n"
          ]
        }
      ]
    }
  ]
}